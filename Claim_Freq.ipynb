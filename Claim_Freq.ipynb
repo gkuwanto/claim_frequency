{
  "nbformat": 4,
  "nbformat_minor": 0,
  "metadata": {
    "colab": {
      "name": "Claim Freq.ipynb",
      "provenance": []
    },
    "kernelspec": {
      "name": "python3",
      "display_name": "Python 3"
    },
    "language_info": {
      "name": "python"
    }
  },
  "cells": [
    {
      "cell_type": "code",
      "metadata": {
        "colab": {
          "base_uri": "https://localhost:8080/"
        },
        "id": "XF-ra3tex3Gq",
        "outputId": "30d019c1-dc5f-4adb-e924-480054d81195"
      },
      "source": [
        "!pip install --upgrade -U scikit-learn"
      ],
      "execution_count": 1,
      "outputs": [
        {
          "output_type": "stream",
          "text": [
            "Collecting scikit-learn\n",
            "\u001b[?25l  Downloading https://files.pythonhosted.org/packages/a8/eb/a48f25c967526b66d5f1fa7a984594f0bf0a5afafa94a8c4dbc317744620/scikit_learn-0.24.2-cp37-cp37m-manylinux2010_x86_64.whl (22.3MB)\n",
            "\u001b[K     |████████████████████████████████| 22.3MB 49.3MB/s \n",
            "\u001b[?25hRequirement already satisfied, skipping upgrade: numpy>=1.13.3 in /usr/local/lib/python3.7/dist-packages (from scikit-learn) (1.19.5)\n",
            "Requirement already satisfied, skipping upgrade: joblib>=0.11 in /usr/local/lib/python3.7/dist-packages (from scikit-learn) (1.0.1)\n",
            "Collecting threadpoolctl>=2.0.0\n",
            "  Downloading https://files.pythonhosted.org/packages/f7/12/ec3f2e203afa394a149911729357aa48affc59c20e2c1c8297a60f33f133/threadpoolctl-2.1.0-py3-none-any.whl\n",
            "Requirement already satisfied, skipping upgrade: scipy>=0.19.1 in /usr/local/lib/python3.7/dist-packages (from scikit-learn) (1.4.1)\n",
            "Installing collected packages: threadpoolctl, scikit-learn\n",
            "  Found existing installation: scikit-learn 0.22.2.post1\n",
            "    Uninstalling scikit-learn-0.22.2.post1:\n",
            "      Successfully uninstalled scikit-learn-0.22.2.post1\n",
            "Successfully installed scikit-learn-0.24.2 threadpoolctl-2.1.0\n"
          ],
          "name": "stdout"
        }
      ]
    },
    {
      "cell_type": "code",
      "metadata": {
        "id": "DbuixCZxf3_y"
      },
      "source": [
        "import numpy as np\n",
        "import pandas as pd\n",
        "import matplotlib.pyplot as plt\n",
        "import seaborn as sns"
      ],
      "execution_count": 2,
      "outputs": []
    },
    {
      "cell_type": "code",
      "metadata": {
        "id": "fdu8f5WdgBJ1"
      },
      "source": [
        "df = pd.read_csv(\"L_Group_Data.csv\")\n",
        "df['EXPOSURE'] /= 365.25"
      ],
      "execution_count": 3,
      "outputs": []
    },
    {
      "cell_type": "code",
      "metadata": {
        "colab": {
          "base_uri": "https://localhost:8080/",
          "height": 419
        },
        "id": "ENimlgGuuXSy",
        "outputId": "f2e6a734-12a9-4278-8a69-54a58993e60b"
      },
      "source": [
        "df.sort_values(['EXPOSURE', 'CLAIMNO'], ascending=[True, False])"
      ],
      "execution_count": 4,
      "outputs": [
        {
          "output_type": "execute_result",
          "data": {
            "text/html": [
              "<div>\n",
              "<style scoped>\n",
              "    .dataframe tbody tr th:only-of-type {\n",
              "        vertical-align: middle;\n",
              "    }\n",
              "\n",
              "    .dataframe tbody tr th {\n",
              "        vertical-align: top;\n",
              "    }\n",
              "\n",
              "    .dataframe thead th {\n",
              "        text-align: right;\n",
              "    }\n",
              "</style>\n",
              "<table border=\"1\" class=\"dataframe\">\n",
              "  <thead>\n",
              "    <tr style=\"text-align: right;\">\n",
              "      <th></th>\n",
              "      <th>F1</th>\n",
              "      <th>F3</th>\n",
              "      <th>F4</th>\n",
              "      <th>F5</th>\n",
              "      <th>F8</th>\n",
              "      <th>F9</th>\n",
              "      <th>F10</th>\n",
              "      <th>F11</th>\n",
              "      <th>F12</th>\n",
              "      <th>F13</th>\n",
              "      <th>EXPOSURE</th>\n",
              "      <th>CLAIMNO</th>\n",
              "    </tr>\n",
              "  </thead>\n",
              "  <tbody>\n",
              "    <tr>\n",
              "      <th>42718</th>\n",
              "      <td>P</td>\n",
              "      <td>5</td>\n",
              "      <td>2</td>\n",
              "      <td>2</td>\n",
              "      <td>M1</td>\n",
              "      <td>S2</td>\n",
              "      <td>M2</td>\n",
              "      <td>L2</td>\n",
              "      <td>B</td>\n",
              "      <td>0</td>\n",
              "      <td>0.000219</td>\n",
              "      <td>1</td>\n",
              "    </tr>\n",
              "    <tr>\n",
              "      <th>302</th>\n",
              "      <td>F</td>\n",
              "      <td>14</td>\n",
              "      <td>4</td>\n",
              "      <td>2</td>\n",
              "      <td>H2</td>\n",
              "      <td>S0</td>\n",
              "      <td>M3</td>\n",
              "      <td>L2</td>\n",
              "      <td>D</td>\n",
              "      <td>1</td>\n",
              "      <td>0.000219</td>\n",
              "      <td>0</td>\n",
              "    </tr>\n",
              "    <tr>\n",
              "      <th>438</th>\n",
              "      <td>F</td>\n",
              "      <td>14</td>\n",
              "      <td>2</td>\n",
              "      <td>2</td>\n",
              "      <td>M2</td>\n",
              "      <td>S2</td>\n",
              "      <td>M1</td>\n",
              "      <td>L4</td>\n",
              "      <td>D</td>\n",
              "      <td>2</td>\n",
              "      <td>0.000219</td>\n",
              "      <td>0</td>\n",
              "    </tr>\n",
              "    <tr>\n",
              "      <th>441</th>\n",
              "      <td>F</td>\n",
              "      <td>14</td>\n",
              "      <td>8</td>\n",
              "      <td>2</td>\n",
              "      <td>H2</td>\n",
              "      <td>S1</td>\n",
              "      <td>M3</td>\n",
              "      <td>L3</td>\n",
              "      <td>B</td>\n",
              "      <td>1</td>\n",
              "      <td>0.000219</td>\n",
              "      <td>0</td>\n",
              "    </tr>\n",
              "    <tr>\n",
              "      <th>507</th>\n",
              "      <td>F</td>\n",
              "      <td>8</td>\n",
              "      <td>4</td>\n",
              "      <td>2</td>\n",
              "      <td>H1</td>\n",
              "      <td>S1</td>\n",
              "      <td>M1</td>\n",
              "      <td>L3</td>\n",
              "      <td>E</td>\n",
              "      <td>0</td>\n",
              "      <td>0.000219</td>\n",
              "      <td>0</td>\n",
              "    </tr>\n",
              "    <tr>\n",
              "      <th>...</th>\n",
              "      <td>...</td>\n",
              "      <td>...</td>\n",
              "      <td>...</td>\n",
              "      <td>...</td>\n",
              "      <td>...</td>\n",
              "      <td>...</td>\n",
              "      <td>...</td>\n",
              "      <td>...</td>\n",
              "      <td>...</td>\n",
              "      <td>...</td>\n",
              "      <td>...</td>\n",
              "      <td>...</td>\n",
              "    </tr>\n",
              "    <tr>\n",
              "      <th>20447</th>\n",
              "      <td>F</td>\n",
              "      <td>1</td>\n",
              "      <td>10</td>\n",
              "      <td>2</td>\n",
              "      <td>M1</td>\n",
              "      <td>S2</td>\n",
              "      <td>M1</td>\n",
              "      <td>L2</td>\n",
              "      <td>D</td>\n",
              "      <td>0</td>\n",
              "      <td>13.323149</td>\n",
              "      <td>117</td>\n",
              "    </tr>\n",
              "    <tr>\n",
              "      <th>29063</th>\n",
              "      <td>F</td>\n",
              "      <td>1</td>\n",
              "      <td>10</td>\n",
              "      <td>2</td>\n",
              "      <td>M1</td>\n",
              "      <td>S2</td>\n",
              "      <td>M1</td>\n",
              "      <td>L1</td>\n",
              "      <td>B</td>\n",
              "      <td>0</td>\n",
              "      <td>14.125969</td>\n",
              "      <td>76</td>\n",
              "    </tr>\n",
              "    <tr>\n",
              "      <th>21544</th>\n",
              "      <td>F</td>\n",
              "      <td>1</td>\n",
              "      <td>14</td>\n",
              "      <td>2</td>\n",
              "      <td>M1</td>\n",
              "      <td>S3</td>\n",
              "      <td>M1</td>\n",
              "      <td>L1</td>\n",
              "      <td>B</td>\n",
              "      <td>0</td>\n",
              "      <td>15.610924</td>\n",
              "      <td>147</td>\n",
              "    </tr>\n",
              "    <tr>\n",
              "      <th>23049</th>\n",
              "      <td>F</td>\n",
              "      <td>1</td>\n",
              "      <td>10</td>\n",
              "      <td>2</td>\n",
              "      <td>M1</td>\n",
              "      <td>S2</td>\n",
              "      <td>M1</td>\n",
              "      <td>L2</td>\n",
              "      <td>B</td>\n",
              "      <td>0</td>\n",
              "      <td>18.029925</td>\n",
              "      <td>144</td>\n",
              "    </tr>\n",
              "    <tr>\n",
              "      <th>40960</th>\n",
              "      <td>F</td>\n",
              "      <td>1</td>\n",
              "      <td>10</td>\n",
              "      <td>2</td>\n",
              "      <td>M1</td>\n",
              "      <td>S3</td>\n",
              "      <td>M1</td>\n",
              "      <td>L1</td>\n",
              "      <td>B</td>\n",
              "      <td>0</td>\n",
              "      <td>18.674333</td>\n",
              "      <td>159</td>\n",
              "    </tr>\n",
              "  </tbody>\n",
              "</table>\n",
              "<p>44554 rows × 12 columns</p>\n",
              "</div>"
            ],
            "text/plain": [
              "      F1  F3  F4  F5  F8  F9 F10 F11 F12  F13   EXPOSURE  CLAIMNO\n",
              "42718  P   5   2   2  M1  S2  M2  L2   B    0   0.000219        1\n",
              "302    F  14   4   2  H2  S0  M3  L2   D    1   0.000219        0\n",
              "438    F  14   2   2  M2  S2  M1  L4   D    2   0.000219        0\n",
              "441    F  14   8   2  H2  S1  M3  L3   B    1   0.000219        0\n",
              "507    F   8   4   2  H1  S1  M1  L3   E    0   0.000219        0\n",
              "...   ..  ..  ..  ..  ..  ..  ..  ..  ..  ...        ...      ...\n",
              "20447  F   1  10   2  M1  S2  M1  L2   D    0  13.323149      117\n",
              "29063  F   1  10   2  M1  S2  M1  L1   B    0  14.125969       76\n",
              "21544  F   1  14   2  M1  S3  M1  L1   B    0  15.610924      147\n",
              "23049  F   1  10   2  M1  S2  M1  L2   B    0  18.029925      144\n",
              "40960  F   1  10   2  M1  S3  M1  L1   B    0  18.674333      159\n",
              "\n",
              "[44554 rows x 12 columns]"
            ]
          },
          "metadata": {
            "tags": []
          },
          "execution_count": 4
        }
      ]
    },
    {
      "cell_type": "code",
      "metadata": {
        "colab": {
          "base_uri": "https://localhost:8080/",
          "height": 332
        },
        "id": "wdx3AjUpim4x",
        "outputId": "7b5b3fad-e9e5-4ffd-987b-33e144d00d26"
      },
      "source": [
        "df[\"FREQUENCY\"] = df[\"CLAIMNO\"] / df[\"EXPOSURE\"]\n",
        "\n",
        "avg = np.average(df[\"FREQUENCY\"], weights=df[\"EXPOSURE\"])\n",
        "var = np.average((df[\"FREQUENCY\"]-avg)**2, weights=df[\"EXPOSURE\"])\n",
        "\n",
        "print(\"Average FREQUENCY = {}\"\n",
        "      .format(avg))\n",
        "print(\"Standard Deviation of FREQUENCY = {}\"\n",
        "      .format(np.sqrt(var)))\n",
        "\n",
        "\n",
        "print(\"Fraction of exposure with zero claims = {0:.1%}\"\n",
        "      .format(df.loc[df[\"CLAIMNO\"] == 0, \"EXPOSURE\"].sum() /\n",
        "              df[\"EXPOSURE\"].sum()))\n",
        "\n",
        "fig, (ax0, ax1, ax2) = plt.subplots(ncols=3, figsize=(16, 4))\n",
        "ax0.set_title(\"Number of claims\")\n",
        "_ = df[\"CLAIMNO\"].hist(bins=30, log=True, ax=ax0)\n",
        "ax1.set_title(\"Exposure in years\")\n",
        "_ = df[\"EXPOSURE\"].hist(bins=30, log=True, ax=ax1)\n",
        "ax2.set_title(\"Frequency (number of claims per year)\")\n",
        "_ = df[\"FREQUENCY\"].hist(bins=30, log=True, ax=ax2)"
      ],
      "execution_count": 5,
      "outputs": [
        {
          "output_type": "stream",
          "text": [
            "Average FREQUENCY = 10.505646424367717\n",
            "Standard Deviation of FREQUENCY = 21.591049841986216\n",
            "Fraction of exposure with zero claims = 22.5%\n"
          ],
          "name": "stdout"
        },
        {
          "output_type": "display_data",
          "data": {
            "image/png": "[encoded data removed]",
            "text/plain": [
              "<Figure size 1152x288 with 3 Axes>"
            ]
          },
          "metadata": {
            "tags": [],
            "needs_background": "light"
          }
        }
      ]
    },
    {
      "cell_type": "code",
      "metadata": {
        "colab": {
          "base_uri": "https://localhost:8080/",
          "height": 204
        },
        "id": "w3ilWDTxsesx",
        "outputId": "3ea664ed-42c2-413b-aea6-a1dc2468cf9d"
      },
      "source": [
        "df.head()"
      ],
      "execution_count": 6,
      "outputs": [
        {
          "output_type": "execute_result",
          "data": {
            "text/html": [
              "<div>\n",
              "<style scoped>\n",
              "    .dataframe tbody tr th:only-of-type {\n",
              "        vertical-align: middle;\n",
              "    }\n",
              "\n",
              "    .dataframe tbody tr th {\n",
              "        vertical-align: top;\n",
              "    }\n",
              "\n",
              "    .dataframe thead th {\n",
              "        text-align: right;\n",
              "    }\n",
              "</style>\n",
              "<table border=\"1\" class=\"dataframe\">\n",
              "  <thead>\n",
              "    <tr style=\"text-align: right;\">\n",
              "      <th></th>\n",
              "      <th>F1</th>\n",
              "      <th>F3</th>\n",
              "      <th>F4</th>\n",
              "      <th>F5</th>\n",
              "      <th>F8</th>\n",
              "      <th>F9</th>\n",
              "      <th>F10</th>\n",
              "      <th>F11</th>\n",
              "      <th>F12</th>\n",
              "      <th>F13</th>\n",
              "      <th>EXPOSURE</th>\n",
              "      <th>CLAIMNO</th>\n",
              "      <th>FREQUENCY</th>\n",
              "    </tr>\n",
              "  </thead>\n",
              "  <tbody>\n",
              "    <tr>\n",
              "      <th>0</th>\n",
              "      <td>F</td>\n",
              "      <td>11</td>\n",
              "      <td>4</td>\n",
              "      <td>2</td>\n",
              "      <td>M2</td>\n",
              "      <td>S2</td>\n",
              "      <td>M2</td>\n",
              "      <td>L3</td>\n",
              "      <td>D</td>\n",
              "      <td>0</td>\n",
              "      <td>0.035565</td>\n",
              "      <td>1</td>\n",
              "      <td>28.117783</td>\n",
              "    </tr>\n",
              "    <tr>\n",
              "      <th>1</th>\n",
              "      <td>F</td>\n",
              "      <td>5</td>\n",
              "      <td>10</td>\n",
              "      <td>2</td>\n",
              "      <td>M1</td>\n",
              "      <td>S2</td>\n",
              "      <td>M1</td>\n",
              "      <td>L2</td>\n",
              "      <td>B</td>\n",
              "      <td>0</td>\n",
              "      <td>0.805284</td>\n",
              "      <td>10</td>\n",
              "      <td>12.417978</td>\n",
              "    </tr>\n",
              "    <tr>\n",
              "      <th>2</th>\n",
              "      <td>P</td>\n",
              "      <td>1</td>\n",
              "      <td>10</td>\n",
              "      <td>2</td>\n",
              "      <td>M1</td>\n",
              "      <td>S5</td>\n",
              "      <td>M0</td>\n",
              "      <td>L1</td>\n",
              "      <td>D</td>\n",
              "      <td>0</td>\n",
              "      <td>0.002738</td>\n",
              "      <td>0</td>\n",
              "      <td>0.000000</td>\n",
              "    </tr>\n",
              "    <tr>\n",
              "      <th>3</th>\n",
              "      <td>F</td>\n",
              "      <td>13</td>\n",
              "      <td>10</td>\n",
              "      <td>2</td>\n",
              "      <td>C</td>\n",
              "      <td>S2</td>\n",
              "      <td>M1</td>\n",
              "      <td>L2</td>\n",
              "      <td>B</td>\n",
              "      <td>0</td>\n",
              "      <td>0.044764</td>\n",
              "      <td>1</td>\n",
              "      <td>22.339450</td>\n",
              "    </tr>\n",
              "    <tr>\n",
              "      <th>4</th>\n",
              "      <td>F</td>\n",
              "      <td>2</td>\n",
              "      <td>10</td>\n",
              "      <td>2</td>\n",
              "      <td>M1</td>\n",
              "      <td>S1</td>\n",
              "      <td>M1</td>\n",
              "      <td>L1</td>\n",
              "      <td>B</td>\n",
              "      <td>0</td>\n",
              "      <td>0.821410</td>\n",
              "      <td>3</td>\n",
              "      <td>3.652257</td>\n",
              "    </tr>\n",
              "  </tbody>\n",
              "</table>\n",
              "</div>"
            ],
            "text/plain": [
              "  F1  F3  F4  F5  F8  F9 F10 F11 F12  F13  EXPOSURE  CLAIMNO  FREQUENCY\n",
              "0  F  11   4   2  M2  S2  M2  L3   D    0  0.035565        1  28.117783\n",
              "1  F   5  10   2  M1  S2  M1  L2   B    0  0.805284       10  12.417978\n",
              "2  P   1  10   2  M1  S5  M0  L1   D    0  0.002738        0   0.000000\n",
              "3  F  13  10   2   C  S2  M1  L2   B    0  0.044764        1  22.339450\n",
              "4  F   2  10   2  M1  S1  M1  L1   B    0  0.821410        3   3.652257"
            ]
          },
          "metadata": {
            "tags": []
          },
          "execution_count": 6
        }
      ]
    },
    {
      "cell_type": "code",
      "metadata": {
        "colab": {
          "base_uri": "https://localhost:8080/"
        },
        "id": "Q2hcJdVcwfx2",
        "outputId": "46faf0b7-fb85-4932-9b7d-31a8480830c7"
      },
      "source": [
        "for column in df.columns:\n",
        "  print(column, df[column].unique())"
      ],
      "execution_count": 7,
      "outputs": [
        {
          "output_type": "stream",
          "text": [
            "F1 ['F' 'P']\n",
            "F3 [11  5  1 13  2 10  8 12  3  4 14  7  6  9 15]\n",
            "F4 [ 4 10  8 20  6  0 14  2]\n",
            "F5 [2 3 1]\n",
            "F8 ['M2' 'M1' 'C' 'H1' 'H2']\n",
            "F9 ['S2' 'S5' 'S1' 'S3' 'S0']\n",
            "F10 ['M2' 'M1' 'M0' 'M3']\n",
            "F11 ['L3' 'L2' 'L1' 'L4']\n",
            "F12 ['D' 'B' 'E']\n",
            "F13 [0 3 1 2 4 5]\n",
            "EXPOSURE [0.03556468 0.80528405 0.00273785 ... 0.26921287 0.09995893 0.05793292]\n",
            "CLAIMNO [  1  10   0   3   2   4  18   5   6  27  14   9   8  20   7  21  16  13\n",
            "  71  43  11 129  39  17  91  46  12  76  88  24  52  19  40  32  28  15\n",
            "  30  44  75  22  23  29 117  25  31  35 147  68 144  41  42  61  51  55\n",
            " 108  26  64  34  95  83 159  48  54  33]\n",
            "FREQUENCY [28.11778291 12.41797844  0.         ...  9.6194364  26.62172012\n",
            " 32.75784753]\n"
          ],
          "name": "stdout"
        }
      ]
    },
    {
      "cell_type": "code",
      "metadata": {
        "id": "jBaNAEnNwZ_m"
      },
      "source": [
        "from sklearn.pipeline import make_pipeline\n",
        "from sklearn.preprocessing import FunctionTransformer, OneHotEncoder\n",
        "from sklearn.preprocessing import StandardScaler, KBinsDiscretizer\n",
        "from sklearn.compose import ColumnTransformer\n",
        "\n",
        "linear_model_preprocessor = ColumnTransformer(\n",
        "    [\n",
        "        (\"passthrough_numeric\", \"passthrough\",\n",
        "            [\"F3\", \"F4\"]),\n",
        "        (\"onehot_categorical\", OneHotEncoder(),\n",
        "            [\"F1\", \"F5\", \"F8\", \"F9\", \"F10\", \"F11\", \"F12\", \"F13\"]),\n",
        "    ],\n",
        "    remainder=\"drop\",\n",
        ")"
      ],
      "execution_count": 8,
      "outputs": []
    },
    {
      "cell_type": "code",
      "metadata": {
        "id": "cgiVdlqDxNQZ"
      },
      "source": [
        "from sklearn.dummy import DummyRegressor\n",
        "from sklearn.pipeline import Pipeline\n",
        "from sklearn.model_selection import train_test_split\n",
        "\n",
        "df_train, df_test = train_test_split(df, test_size=0.33, random_state=0)\n",
        "\n",
        "dummy = Pipeline([\n",
        "    (\"preprocessor\", linear_model_preprocessor),\n",
        "    (\"regressor\", DummyRegressor(strategy='mean')),\n",
        "]).fit(df_train, df_train[\"FREQUENCY\"],\n",
        "       regressor__sample_weight=df_train[\"EXPOSURE\"])"
      ],
      "execution_count": 9,
      "outputs": []
    },
    {
      "cell_type": "code",
      "metadata": {
        "colab": {
          "base_uri": "https://localhost:8080/"
        },
        "id": "AltlWjf8xTXR",
        "outputId": "63fcbf29-b809-42ef-f56a-376b32f1d5d6"
      },
      "source": [
        "from sklearn.metrics import mean_squared_error\n",
        "from sklearn.metrics import mean_absolute_error\n",
        "from sklearn.metrics import mean_poisson_deviance\n",
        "\n",
        "\n",
        "def score_estimator(estimator, df_test):\n",
        "    \"\"\"Score an estimator on the test set.\"\"\"\n",
        "    y_pred = estimator.predict(df_test)\n",
        "\n",
        "    print(\"MSE: %.3f\" %\n",
        "          mean_squared_error(df_test[\"FREQUENCY\"], y_pred,\n",
        "                             sample_weight=df_test[\"EXPOSURE\"]))\n",
        "    print(\"MAE: %.3f\" %\n",
        "          mean_absolute_error(df_test[\"FREQUENCY\"], y_pred,\n",
        "                              sample_weight=df_test[\"EXPOSURE\"]))\n",
        "\n",
        "    # Ignore non-positive predictions, as they are invalid for\n",
        "    # the Poisson deviance.\n",
        "    mask = y_pred > 0\n",
        "    if (~mask).any():\n",
        "        n_masked, n_samples = (~mask).sum(), mask.shape[0]\n",
        "        print(f\"WARNING: Estimator yields invalid, non-positive predictions \"\n",
        "              f\" for {n_masked} samples out of {n_samples}. These predictions \"\n",
        "              f\"are ignored when computing the Poisson deviance.\")\n",
        "\n",
        "    print(\"mean Poisson deviance: %.3f\" %\n",
        "          mean_poisson_deviance(df_test[\"FREQUENCY\"][mask],\n",
        "                                y_pred[mask],\n",
        "                                sample_weight=df_test[\"EXPOSURE\"][mask]))\n",
        "\n",
        "\n",
        "print(\"Constant mean frequency evaluation:\")\n",
        "score_estimator(dummy, df_test)"
      ],
      "execution_count": 10,
      "outputs": [
        {
          "output_type": "stream",
          "text": [
            "Constant mean frequency evaluation:\n",
            "MSE: 470.553\n",
            "MAE: 7.538\n",
            "mean Poisson deviance: 14.491\n"
          ],
          "name": "stdout"
        }
      ]
    },
    {
      "cell_type": "code",
      "metadata": {
        "id": "LLFjxFvgxd70"
      },
      "source": [
        "from sklearn.linear_model import Ridge\n",
        "\n",
        "\n",
        "ridge_glm = Pipeline([\n",
        "    (\"preprocessor\", linear_model_preprocessor),\n",
        "    (\"regressor\", Ridge(alpha=1e-6)),\n",
        "]).fit(df_train, df_train[\"FREQUENCY\"],\n",
        "       regressor__sample_weight=df_train[\"EXPOSURE\"])\n"
      ],
      "execution_count": 11,
      "outputs": []
    },
    {
      "cell_type": "code",
      "metadata": {
        "colab": {
          "base_uri": "https://localhost:8080/"
        },
        "id": "P-2X1u99xnKD",
        "outputId": "4742e33b-eeb8-4b0e-9b98-f639872be094"
      },
      "source": [
        "print(\"Ridge evaluation:\")\n",
        "score_estimator(ridge_glm, df_test)"
      ],
      "execution_count": 12,
      "outputs": [
        {
          "output_type": "stream",
          "text": [
            "Ridge evaluation:\n",
            "MSE: 458.999\n",
            "MAE: 6.732\n",
            "WARNING: Estimator yields invalid, non-positive predictions  for 271 samples out of 14703. These predictions are ignored when computing the Poisson deviance.\n",
            "mean Poisson deviance: 13.530\n"
          ],
          "name": "stdout"
        }
      ]
    },
    {
      "cell_type": "code",
      "metadata": {
        "colab": {
          "base_uri": "https://localhost:8080/"
        },
        "id": "9z9PjQ1ZxpfD",
        "outputId": "ca66eb86-3a4e-422f-bc8e-06d86d9353b8"
      },
      "source": [
        "from sklearn.linear_model import PoissonRegressor\n",
        "\n",
        "n_samples = df_train.shape[0]\n",
        "\n",
        "poisson_glm = Pipeline([\n",
        "    (\"preprocessor\", linear_model_preprocessor),\n",
        "    (\"regressor\", PoissonRegressor(alpha=1e-12, max_iter=300))\n",
        "])\n",
        "poisson_glm.fit(df_train, df_train[\"FREQUENCY\"],\n",
        "                regressor__sample_weight=df_train[\"EXPOSURE\"])\n",
        "\n",
        "print(\"PoissonRegressor evaluation:\")\n",
        "score_estimator(poisson_glm, df_test)\n"
      ],
      "execution_count": 13,
      "outputs": [
        {
          "output_type": "stream",
          "text": [
            "PoissonRegressor evaluation:\n",
            "MSE: 457.215\n",
            "MAE: 7.027\n",
            "mean Poisson deviance: 13.408\n"
          ],
          "name": "stdout"
        },
        {
          "output_type": "stream",
          "text": [
            "/usr/local/lib/python3.7/dist-packages/sklearn/linear_model/_glm/glm.py:287: ConvergenceWarning: lbfgs failed to converge (status=1):\n",
            "STOP: TOTAL NO. of ITERATIONS REACHED LIMIT.\n",
            "\n",
            "Increase the number of iterations (max_iter) or scale the data as shown in:\n",
            "    https://scikit-learn.org/stable/modules/preprocessing.html\n",
            "  self.n_iter_ = _check_optimize_result(\"lbfgs\", opt_res)\n"
          ],
          "name": "stderr"
        }
      ]
    },
    {
      "cell_type": "code",
      "metadata": {
        "colab": {
          "base_uri": "https://localhost:8080/"
        },
        "id": "UWWmEjFBxwia",
        "outputId": "90982390-1d55-45d8-c303-34ab40ca9a5f"
      },
      "source": [
        "from sklearn.experimental import enable_hist_gradient_boosting  # noqa\n",
        "from sklearn.ensemble import HistGradientBoostingRegressor\n",
        "from sklearn.preprocessing import OrdinalEncoder\n",
        "\n",
        "\n",
        "tree_preprocessor = ColumnTransformer(\n",
        "    [\n",
        "        (\"categorical\", OrdinalEncoder(),\n",
        "            [\"F1\", \"F5\", \"F8\", \"F9\", \"F10\", \"F11\", \"F12\", \"F13\"]),\n",
        "        (\"numeric\", \"passthrough\",\n",
        "            [\"F3\", \"F4\"]),\n",
        "    ],\n",
        "    remainder=\"drop\",\n",
        ")\n",
        "poisson_gbrt = Pipeline([\n",
        "    (\"preprocessor\", tree_preprocessor),\n",
        "    (\"regressor\", HistGradientBoostingRegressor(loss=\"poisson\",\n",
        "                                                max_leaf_nodes=128)),\n",
        "])\n",
        "poisson_gbrt.fit(df_train, df_train[\"FREQUENCY\"],\n",
        "                 regressor__sample_weight=df_train[\"EXPOSURE\"])\n",
        "\n",
        "print(\"Poisson Gradient Boosted Trees evaluation:\")\n",
        "score_estimator(poisson_gbrt, df_test)"
      ],
      "execution_count": 15,
      "outputs": [
        {
          "output_type": "stream",
          "text": [
            "Poisson Gradient Boosted Trees evaluation:\n",
            "MSE: 462.415\n",
            "MAE: 6.966\n",
            "mean Poisson deviance: 13.614\n"
          ],
          "name": "stdout"
        }
      ]
    },
    {
      "cell_type": "code",
      "metadata": {
        "colab": {
          "base_uri": "https://localhost:8080/",
          "height": 394
        },
        "id": "mzYqGkxAyd-v",
        "outputId": "42c5e3bf-c240-403b-8a6c-efc7d6017274"
      },
      "source": [
        "fig, axes = plt.subplots(nrows=2, ncols=4, figsize=(16, 6), sharey=True)\n",
        "fig.subplots_adjust(bottom=0.2)\n",
        "n_bins = 20\n",
        "for row_idx, label, df in zip(range(2),\n",
        "                              [\"train\", \"test\"],\n",
        "                              [df_train, df_test]):\n",
        "    df[\"FREQUENCY\"].hist(bins=np.linspace(-1, 30, n_bins),\n",
        "                         ax=axes[row_idx, 0])\n",
        "\n",
        "    axes[row_idx, 0].set_title(\"Data\")\n",
        "    axes[row_idx, 0].set_yscale('log')\n",
        "    axes[row_idx, 0].set_xlabel(\"y (observed Frequency)\")\n",
        "    axes[row_idx, 0].set_ylim([1e1, 5e5])\n",
        "    axes[row_idx, 0].set_ylabel(label + \" samples\")\n",
        "\n",
        "    for idx, model in enumerate([ridge_glm, poisson_glm, poisson_gbrt]):\n",
        "        y_pred = model.predict(df)\n",
        "\n",
        "        pd.Series(y_pred).hist(bins=np.linspace(-1, 30, n_bins),\n",
        "                               ax=axes[row_idx, idx+1])\n",
        "        axes[row_idx, idx + 1].set(\n",
        "            title=model[-1].__class__.__name__,\n",
        "            yscale='log',\n",
        "            xlabel=\"y_pred (predicted expected Frequency)\"\n",
        "        )\n",
        "plt.tight_layout()"
      ],
      "execution_count": 20,
      "outputs": [
        {
          "output_type": "display_data",
          "data": {
            "image/png": "[encoded data removed]",
            "text/plain": [
              "<Figure size 1152x432 with 8 Axes>"
            ]
          },
          "metadata": {
            "tags": [],
            "needs_background": "light"
          }
        }
      ]
    },
    {
      "cell_type": "code",
      "metadata": {
        "colab": {
          "base_uri": "https://localhost:8080/",
          "height": 670
        },
        "id": "gLwn8nQ6ym2a",
        "outputId": "ad1dff4c-3ec5-4854-bcde-737c5867d1a8"
      },
      "source": [
        "from sklearn.utils import gen_even_slices\n",
        "\n",
        "\n",
        "def _mean_frequency_by_risk_group(y_true, y_pred, sample_weight=None,\n",
        "                                  n_bins=100):\n",
        "    \"\"\"Compare predictions and observations for bins ordered by y_pred.\n",
        "\n",
        "    We order the samples by ``y_pred`` and split it in bins.\n",
        "    In each bin the observed mean is compared with the predicted mean.\n",
        "\n",
        "    Parameters\n",
        "    ----------\n",
        "    y_true: array-like of shape (n_samples,)\n",
        "        Ground truth (correct) target values.\n",
        "    y_pred: array-like of shape (n_samples,)\n",
        "        Estimated target values.\n",
        "    sample_weight : array-like of shape (n_samples,)\n",
        "        Sample weights.\n",
        "    n_bins: int\n",
        "        Number of bins to use.\n",
        "\n",
        "    Returns\n",
        "    -------\n",
        "    bin_centers: ndarray of shape (n_bins,)\n",
        "        bin centers\n",
        "    y_true_bin: ndarray of shape (n_bins,)\n",
        "        average y_pred for each bin\n",
        "    y_pred_bin: ndarray of shape (n_bins,)\n",
        "        average y_pred for each bin\n",
        "    \"\"\"\n",
        "    idx_sort = np.argsort(y_pred)\n",
        "    bin_centers = np.arange(0, 1, 1/n_bins) + 0.5/n_bins\n",
        "    y_pred_bin = np.zeros(n_bins)\n",
        "    y_true_bin = np.zeros(n_bins)\n",
        "\n",
        "    for n, sl in enumerate(gen_even_slices(len(y_true), n_bins)):\n",
        "        weights = sample_weight[idx_sort][sl]\n",
        "        y_pred_bin[n] = np.average(\n",
        "            y_pred[idx_sort][sl], weights=weights\n",
        "        )\n",
        "        y_true_bin[n] = np.average(\n",
        "            y_true[idx_sort][sl],\n",
        "            weights=weights\n",
        "        )\n",
        "    return bin_centers, y_true_bin, y_pred_bin\n",
        "\n",
        "\n",
        "print(f\"Actual number of claims: {df_test['CLAIMNO'].sum()}\")\n",
        "fig, ax = plt.subplots(nrows=2, ncols=2, figsize=(12, 8))\n",
        "plt.subplots_adjust(wspace=0.3)\n",
        "\n",
        "for axi, model in zip(ax.ravel(), [ridge_glm, poisson_glm, poisson_gbrt,\n",
        "                                   dummy]):\n",
        "    y_pred = model.predict(df_test)\n",
        "    y_true = df_test[\"FREQUENCY\"].values\n",
        "    exposure = df_test[\"EXPOSURE\"].values\n",
        "    q, y_true_seg, y_pred_seg = _mean_frequency_by_risk_group(\n",
        "        y_true, y_pred, sample_weight=exposure, n_bins=10)\n",
        "\n",
        "    # Name of the model after the estimator used in the last step of the\n",
        "    # pipeline.\n",
        "    print(f\"Predicted number of claims by {model[-1]}: \"\n",
        "          f\"{np.sum(y_pred * exposure):.1f}\")\n",
        "\n",
        "    axi.plot(q, y_pred_seg, marker='x', linestyle=\"--\", label=\"predictions\")\n",
        "    axi.plot(q, y_true_seg, marker='o', linestyle=\"--\", label=\"observations\")\n",
        "    axi.set_xlim(0, 1.0)\n",
        "    axi.set_ylim(0, 0.5)\n",
        "    axi.set(\n",
        "        title=model[-1],\n",
        "        xlabel='Fraction of samples sorted by y_pred',\n",
        "        ylabel='Mean Frequency (y_pred)'\n",
        "    )\n",
        "    axi.legend()\n",
        "plt.tight_layout()"
      ],
      "execution_count": 17,
      "outputs": [
        {
          "output_type": "stream",
          "text": [
            "Actual number of claims: 5256\n",
            "Predicted number of claims by Ridge(alpha=1e-06): 4827.0\n",
            "Predicted number of claims by PoissonRegressor(alpha=1e-12, max_iter=300): 5194.3\n",
            "Predicted number of claims by HistGradientBoostingRegressor(loss='poisson', max_leaf_nodes=128): 5203.7\n",
            "Predicted number of claims by DummyRegressor(): 5218.5\n"
          ],
          "name": "stdout"
        },
        {
          "output_type": "display_data",
          "data": {
            "image/png": "[encoded data removed]",
            "text/plain": [
              "<Figure size 864x576 with 4 Axes>"
            ]
          },
          "metadata": {
            "tags": [],
            "needs_background": "light"
          }
        }
      ]
    },
    {
      "cell_type": "code",
      "metadata": {
        "colab": {
          "base_uri": "https://localhost:8080/",
          "height": 530
        },
        "id": "5c3hmya4zBQ1",
        "outputId": "9160ebc8-0ab4-456d-ab2b-daa88d2d3e3d"
      },
      "source": [
        "from sklearn.metrics import auc\n",
        "\n",
        "\n",
        "def lorenz_curve(y_true, y_pred, exposure):\n",
        "    y_true, y_pred = np.asarray(y_true), np.asarray(y_pred)\n",
        "    exposure = np.asarray(exposure)\n",
        "\n",
        "    # order samples by increasing predicted risk:\n",
        "    ranking = np.argsort(y_pred)\n",
        "    ranked_frequencies = y_true[ranking]\n",
        "    ranked_exposure = exposure[ranking]\n",
        "    cumulated_claims = np.cumsum(ranked_frequencies * ranked_exposure)\n",
        "    cumulated_claims /= cumulated_claims[-1]\n",
        "    cumulated_exposure = np.cumsum(ranked_exposure)\n",
        "    cumulated_exposure /= cumulated_exposure[-1]\n",
        "    return cumulated_exposure, cumulated_claims\n",
        "\n",
        "\n",
        "fig, ax = plt.subplots(figsize=(8, 8))\n",
        "\n",
        "for model in [dummy, ridge_glm, poisson_glm, poisson_gbrt]:\n",
        "    y_pred = model.predict(df_test)\n",
        "    cum_exposure, cum_claims = lorenz_curve(df_test[\"FREQUENCY\"], y_pred,\n",
        "                                            df_test[\"EXPOSURE\"])\n",
        "    gini = 1 - 2 * auc(cum_exposure, cum_claims)\n",
        "    label = \"{} (Gini: {:.2f})\".format(model[-1], gini)\n",
        "    ax.plot(cum_exposure, cum_claims, linestyle=\"-\", label=label)\n",
        "\n",
        "# Oracle model: y_pred == y_test\n",
        "cum_exposure, cum_claims = lorenz_curve(df_test[\"FREQUENCY\"],\n",
        "                                        df_test[\"FREQUENCY\"],\n",
        "                                        df_test[\"EXPOSURE\"])\n",
        "gini = 1 - 2 * auc(cum_exposure, cum_claims)\n",
        "label = \"Oracle (Gini: {:.2f})\".format(gini)\n",
        "ax.plot(cum_exposure, cum_claims, linestyle=\"-.\", color=\"gray\", label=label)\n",
        "\n",
        "# Random Baseline\n",
        "ax.plot([0, 1], [0, 1], linestyle=\"--\", color=\"black\",\n",
        "        label=\"Random baseline\")\n",
        "ax.set(\n",
        "    title=\"Lorenz curves by model\",\n",
        "    xlabel='Cumulative proportion of exposure (from safest to riskiest)',\n",
        "    ylabel='Cumulative proportion of claims'\n",
        ")\n",
        "ax.legend(loc=\"upper left\")"
      ],
      "execution_count": 18,
      "outputs": [
        {
          "output_type": "execute_result",
          "data": {
            "text/plain": [
              "<matplotlib.legend.Legend at 0x7f2b3e70fe90>"
            ]
          },
          "metadata": {
            "tags": []
          },
          "execution_count": 18
        },
        {
          "output_type": "display_data",
          "data": {
            "image/png": "[encoded data removed]",
            "text/plain": [
              "<Figure size 576x576 with 1 Axes>"
            ]
          },
          "metadata": {
            "tags": [],
            "needs_background": "light"
          }
        }
      ]
    },
    {
      "cell_type": "code",
      "metadata": {
        "id": "3tU5qSffzR2I"
      },
      "source": [
        ""
      ],
      "execution_count": null,
      "outputs": []
    }
  ]
}